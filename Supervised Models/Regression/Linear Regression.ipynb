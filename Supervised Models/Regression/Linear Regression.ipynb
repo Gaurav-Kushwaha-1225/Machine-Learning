{
 "cells": [
  {
   "cell_type": "markdown",
   "id": "b701268a-fb10-4daf-9fbd-4cc49bfaab22",
   "metadata": {},
   "source": [
    "### Linear Regression\n",
    "- Since, training set in supervised learning model includes both input features and output targets.\n",
    "- Then, after feeding this training set to our learning algorithm, it will produce a function(f).\n",
    "- This function f is called **Hypothesis** or **Model**.\n",
    "- The job with f is to take a new input feature called x and output an estimate or a prediction which is called ŷ. (Remember, y is the actual true value or the target variable in the training set.) (ŷ != y)"
   ]
  },
  {
   "cell_type": "markdown",
   "id": "890f5287-d82e-409a-ba80-2a3780569243",
   "metadata": {},
   "source": [
    "### How to compute or represent f ??\n",
    "Let it be straight line as of now. Then, it can be represented as;\n",
    "$$\n",
    "f𝓌,ᵦ (x) = wx + b\n",
    "$$\n",
    "or\n",
    "$$\n",
    "f (x) = wx + b\n",
    "$$"
   ]
  },
  {
   "cell_type": "code",
   "execution_count": null,
   "id": "28cb68c1-da55-472e-a427-6372ad813356",
   "metadata": {},
   "outputs": [],
   "source": []
  }
 ],
 "metadata": {
  "kernelspec": {
   "display_name": "Python 3 (ipykernel)",
   "language": "python",
   "name": "python3"
  },
  "language_info": {
   "codemirror_mode": {
    "name": "ipython",
    "version": 3
   },
   "file_extension": ".py",
   "mimetype": "text/x-python",
   "name": "python",
   "nbconvert_exporter": "python",
   "pygments_lexer": "ipython3",
   "version": "3.10.12"
  }
 },
 "nbformat": 4,
 "nbformat_minor": 5
}
