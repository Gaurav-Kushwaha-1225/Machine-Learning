{
 "cells": [
  {
   "cell_type": "markdown",
   "id": "fe995c4c-2c53-494f-b6e7-f94f98039e68",
   "metadata": {},
   "source": [
    "---\n",
    "## Multiple Linear Regression (Not MultiVariate Regression)\n",
    "\n",
    "Now, we will make Linear Regression much more faster and powerful.\n",
    "\n",
    "Let's start by looking at the version of linear regression that look at not just one feature, but a lot of different features.\n",
    "\n",
    "### Multiple Features (or Variables)\n",
    "- #### Now, we will introduce $x_j$ as the $j^{th}$ feature or variable in our list of features or variables.\n",
    "- #### $n$ - Total no. of features or variables.\n",
    "- #### $\\vec{x}^{(i)}$ - All $x_j$ ( j from 1 to n) features of $i^{(th)}$ training example.\n",
    "    - #### $\\vec{x}^{(i)} = [x_1^{(i)}, x_2^{(i)}, ~...~ x_n^{(i)}]$ - This is usually called a **Row Vector** rather than a **Column Vector**."
   ]
  },
  {
   "cell_type": "markdown",
   "id": "b933a6a5-a0aa-4ef6-8e0b-ca4db0210522",
   "metadata": {},
   "source": [
    "---\n",
    "\n",
    "### Model\n",
    "- #### Previously - $f_{(w, b)}(x) = wx + b$\n",
    "- #### Now - $$f_{(\\vec{w}, b)}(\\vec{x}) = w_1x_1 + w_2x_2 + w_3x_3 ~+~ ... ~+~ w_nx_n + b$$\n",
    "    - #### $b~$ It is called the `Base Parameter`, i.e. when all other input features are zero. This will be our Model's value. It is not a Vector.\n",
    "    - #### $\\vec{w} = [w_1,~ w_2,~ w_3,~~ ...~ w_n]~$ This is a **Vector** or more specifically a **Row Vector**.\n",
    "    - #### Above two are the **Parameters of the Model**.\n",
    "- #### New Model can be Rewritten as - $$f_{(\\vec{w}, b)}(\\vec{x}) = \\vec{w} \\cdot \\vec{x} + b$$"
   ]
  },
  {
   "cell_type": "markdown",
   "id": "7e288c3f-6547-473f-9b50-4a7560493d99",
   "metadata": {},
   "source": [
    "---\n",
    "\n",
    "## Vectorization\n",
    "\n",
    "##### It helps in implementing Multiple Linear Regression in Machine Learning. \n",
    "##### When you're implementing a learning algorithm, using vectorization will both make your code shorter and also make it run much more efficiently.\n",
    "\n",
    "##### Here's an example with parameters w and b, where;\n",
    "    \n",
    "- $\\vec{w} = [w_1, w_2, w_3]$\n",
    "- $\\vec{x} = [x_1, x_2, x_3]$\n",
    "- $b$ is a number\n",
    "- $n = 3$\n",
    "\n",
    "#### Defining, above parameters in python;\n",
    "```python\n",
    "w = np.array([1.0, 25, -3.3])\n",
    "b = 4\n",
    "x = np.array([10, 20, 30])\n",
    "```\n",
    "\n",
    "#### Without Vectorization\n",
    "$$f_{(\\vec{w}, b)}(\\vec{x}) = w_1x_1 + w_2x_2 + w_3x_3 + b$$\n",
    "- ##### Without vectorization, above equation in python would look like as;\n",
    "```python\n",
    "f = w[0] * x[0] + \n",
    "    w[1] * x[1] + \n",
    "    w[2] * x[2] + b\n",
    "```\n",
    "- ##### This will cause issues when $n$ is large.\n",
    "\n",
    "#### With Vectorization\n",
    "- ##### Above equation can be written using vectors as given below.\n",
    "$$\n",
    "f_{\\vec{w}, b}(\\vec{x}) = \\vec{w} \\cdot \\vec{x} + b\n",
    "$$\n",
    "\n",
    "- Defining, above in python;\n",
    "    - ```python\n",
    "      f = np.dot(w, x) + b\n",
    "      ```\n",
    "- ##### This would run much faster than other previous examples. This is also practically possible when $n$ is large."
   ]
  },
  {
   "cell_type": "code",
   "execution_count": null,
   "id": "92e9fb68-3f61-4fbe-8ee2-d7ac730b4a0f",
   "metadata": {},
   "outputs": [],
   "source": []
  }
 ],
 "metadata": {
  "kernelspec": {
   "display_name": "Python 3 (ipykernel)",
   "language": "python",
   "name": "python3"
  },
  "language_info": {
   "codemirror_mode": {
    "name": "ipython",
    "version": 3
   },
   "file_extension": ".py",
   "mimetype": "text/x-python",
   "name": "python",
   "nbconvert_exporter": "python",
   "pygments_lexer": "ipython3",
   "version": "3.10.12"
  }
 },
 "nbformat": 4,
 "nbformat_minor": 5
}
