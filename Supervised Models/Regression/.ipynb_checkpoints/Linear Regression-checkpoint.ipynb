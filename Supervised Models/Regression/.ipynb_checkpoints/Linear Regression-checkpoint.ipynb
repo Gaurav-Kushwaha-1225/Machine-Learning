{
 "cells": [
  {
   "cell_type": "code",
   "execution_count": null,
   "id": "49973a9d-7bef-496d-921c-589f9f58ea4e",
   "metadata": {},
   "outputs": [],
   "source": [
    "## Linear Regression\n"
   ]
  }
 ],
 "metadata": {
  "kernelspec": {
   "display_name": "Python 3 (ipykernel)",
   "language": "python",
   "name": "python3"
  },
  "language_info": {
   "codemirror_mode": {
    "name": "ipython",
    "version": 3
   },
   "file_extension": ".py",
   "mimetype": "text/x-python",
   "name": "python",
   "nbconvert_exporter": "python",
   "pygments_lexer": "ipython3",
   "version": "3.10.12"
  }
 },
 "nbformat": 4,
 "nbformat_minor": 5
}
